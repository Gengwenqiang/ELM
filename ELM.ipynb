{
 "cells": [
  {
   "cell_type": "code",
   "execution_count": 88,
   "metadata": {},
   "outputs": [],
   "source": [
    "import tkinter as tk\n",
    "import random\n",
    "import codecs"
   ]
  },
  {
   "cell_type": "code",
   "execution_count": 87,
   "metadata": {},
   "outputs": [],
   "source": [
    "root = tk.Tk(className='范例循环模型')\n",
    "root.geometry('800x400')\n",
    "\n",
    "count = 0\n",
    "EC = 0\n",
    "keyList = list()\n",
    "keyNum = 0\n",
    "\n",
    "elmdict = {}\n",
    "\n",
    "f=codecs.open(\"elm.txt\",encoding=\"utf8\")\n",
    "data=f.read()\n",
    "f.close()\n",
    "data=data.rstrip('\\n')  #为下面的切分做准备\n",
    "dataList=data.split('\\n')\n",
    "for elm in dataList:\n",
    "    elmEle=elm.split('%')\n",
    "    elmdict[elmEle[0]]=elmEle[1]\n",
    "\n",
    "\n",
    "def showCallBack():\n",
    "    global count,keyList,keyNum,EC\n",
    "    if count==0:\n",
    "        keyList = list(elmdict.keys())\n",
    "        keyNum = random.randint(0,len(keyList)-1)\n",
    "        count +=1\n",
    "        if EC == 0:\n",
    "            varChinese.set('')\n",
    "        else :\n",
    "            varEnglish.set('')\n",
    "    else:\n",
    "        count -=1\n",
    "    if EC==0:\n",
    "        varEnglish.set(keyList[keyNum])\n",
    "        EC +=1\n",
    "    elif EC==1:\n",
    "        varChinese.set(elmdict[keyList[keyNum]])\n",
    "        EC -=1\n",
    "        \n",
    "def changeCallBack():\n",
    "    global EC\n",
    "    varEnglish.set(\"English\")\n",
    "    varChinese.set(\"Chinese\")\n",
    "    if EC==0:\n",
    "        EC=1\n",
    "    else:\n",
    "        EC=0\n",
    "    \n",
    "varEnglish = tk.StringVar()\n",
    "varChinese = tk.StringVar()\n",
    "\n",
    "enL=tk.Label(textvar=varEnglish,font=(\"黑体\",24))\n",
    "enL.pack()\n",
    "\n",
    "enC=tk.Label(textvar=varChinese,font=(\"宋体\",14))\n",
    "enC.pack()\n",
    "\n",
    "showBu = tk.Button(root,text='show',command=showCallBack,background='#00ff00')\n",
    "changeBu = tk.Button(root,text='change',command=changeCallBack,background='#0000ff')\n",
    "showBu.pack()\n",
    "changeBu.pack()\n",
    "\n",
    "enE=tk.Entry(root,width=80,font=(\"黑体\",24))\n",
    "enE.pack()\n",
    "\n",
    "enC=tk.Entry(root,width=50,font=(\"宋体\",14))\n",
    "enC.pack()\n",
    "\n",
    "\n",
    "def insertCallBack():\n",
    "    global elmdict\n",
    "    enEStr=enE.get()\n",
    "    enCStr=enC.get()\n",
    "    elmdict[enEStr]=enCStr\n",
    "    f=codecs.open(\"elm.txt\",\"a\",encoding=\"utf8\")\n",
    "    f.write(enEStr+'%'+enCStr+'\\n')\n",
    "    f.close()\n",
    "    #print(elmdict.items())\n",
    "    enE.delete(0,'end')\n",
    "    enC.delete(0,'end')\n",
    "insertBu = tk.Button(root,text='insert',command=insertCallBack,bg=\"#ff0000\")\n",
    "insertBu.pack()\n",
    "\n",
    "root.mainloop()"
   ]
  },
  {
   "cell_type": "code",
   "execution_count": 41,
   "metadata": {},
   "outputs": [],
   "source": [
    "a={'h':'k'}"
   ]
  },
  {
   "cell_type": "code",
   "execution_count": 53,
   "metadata": {},
   "outputs": [],
   "source": [
    "mm=list(a.keys())"
   ]
  },
  {
   "cell_type": "code",
   "execution_count": null,
   "metadata": {},
   "outputs": [],
   "source": []
  },
  {
   "cell_type": "code",
   "execution_count": null,
   "metadata": {},
   "outputs": [],
   "source": []
  }
 ],
 "metadata": {
  "kernelspec": {
   "display_name": "Python 3",
   "language": "python",
   "name": "python3"
  },
  "language_info": {
   "codemirror_mode": {
    "name": "ipython",
    "version": 3
   },
   "file_extension": ".py",
   "mimetype": "text/x-python",
   "name": "python",
   "nbconvert_exporter": "python",
   "pygments_lexer": "ipython3",
   "version": "3.7.0"
  }
 },
 "nbformat": 4,
 "nbformat_minor": 2
}
